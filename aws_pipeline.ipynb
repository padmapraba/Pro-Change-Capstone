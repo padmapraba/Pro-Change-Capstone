{
 "cells": [
  {
   "cell_type": "code",
   "execution_count": 127,
   "id": "7cfbbf36",
   "metadata": {
    "scrolled": true
   },
   "outputs": [
    {
     "name": "stdout",
     "output_type": "stream",
     "text": [
      "Collecting seaborn\n",
      "  Downloading seaborn-0.12.0-py3-none-any.whl (285 kB)\n",
      "\u001b[K     |████████████████████████████████| 285 kB 4.0 MB/s eta 0:00:01\n",
      "\u001b[?25hRequirement already satisfied: matplotlib>=3.1 in /Users/padmaprabagaran/opt/anaconda3/envs/capstone/lib/python3.8/site-packages (from seaborn) (3.6.0)\n",
      "Requirement already satisfied: pandas>=0.25 in /Users/padmaprabagaran/opt/anaconda3/envs/capstone/lib/python3.8/site-packages (from seaborn) (1.4.1)\n",
      "Requirement already satisfied: numpy>=1.17 in /Users/padmaprabagaran/opt/anaconda3/envs/capstone/lib/python3.8/site-packages (from seaborn) (1.22.2)\n",
      "Requirement already satisfied: kiwisolver>=1.0.1 in /Users/padmaprabagaran/opt/anaconda3/envs/capstone/lib/python3.8/site-packages (from matplotlib>=3.1->seaborn) (1.4.4)\n",
      "Requirement already satisfied: cycler>=0.10 in /Users/padmaprabagaran/opt/anaconda3/envs/capstone/lib/python3.8/site-packages (from matplotlib>=3.1->seaborn) (0.11.0)\n",
      "Requirement already satisfied: python-dateutil>=2.7 in /Users/padmaprabagaran/opt/anaconda3/envs/capstone/lib/python3.8/site-packages (from matplotlib>=3.1->seaborn) (2.8.2)\n",
      "Requirement already satisfied: contourpy>=1.0.1 in /Users/padmaprabagaran/opt/anaconda3/envs/capstone/lib/python3.8/site-packages (from matplotlib>=3.1->seaborn) (1.0.5)\n",
      "Requirement already satisfied: fonttools>=4.22.0 in /Users/padmaprabagaran/opt/anaconda3/envs/capstone/lib/python3.8/site-packages (from matplotlib>=3.1->seaborn) (4.37.4)\n",
      "Requirement already satisfied: pillow>=6.2.0 in /Users/padmaprabagaran/opt/anaconda3/envs/capstone/lib/python3.8/site-packages (from matplotlib>=3.1->seaborn) (9.2.0)\n",
      "Requirement already satisfied: pyparsing>=2.2.1 in /Users/padmaprabagaran/opt/anaconda3/envs/capstone/lib/python3.8/site-packages (from matplotlib>=3.1->seaborn) (3.0.7)\n",
      "Requirement already satisfied: packaging>=20.0 in /Users/padmaprabagaran/opt/anaconda3/envs/capstone/lib/python3.8/site-packages (from matplotlib>=3.1->seaborn) (21.3)\n",
      "Requirement already satisfied: pytz>=2020.1 in /Users/padmaprabagaran/opt/anaconda3/envs/capstone/lib/python3.8/site-packages (from pandas>=0.25->seaborn) (2021.3)\n",
      "Requirement already satisfied: six>=1.5 in /Users/padmaprabagaran/opt/anaconda3/envs/capstone/lib/python3.8/site-packages (from python-dateutil>=2.7->matplotlib>=3.1->seaborn) (1.16.0)\n",
      "Installing collected packages: seaborn\n",
      "Successfully installed seaborn-0.12.0\n"
     ]
    }
   ],
   "source": [
    "!pip3 install seaborn"
   ]
  },
  {
   "cell_type": "code",
   "execution_count": 128,
   "id": "9e5c4ce3",
   "metadata": {},
   "outputs": [],
   "source": [
    "import boto3\n",
    "from botocore.exceptions import ClientError\n",
    "import pandas as pd\n",
    "import json\n",
    "import tarfile\n",
    "import matplotlib.pyplot as plt \n",
    "import seaborn as sns\n",
    "%matplotlib inline\n",
    "pd.set_option('display.max_colwidth', None)\n",
    "\n",
    "# pd.set_option('display.max_colwidth', -1)"
   ]
  },
  {
   "cell_type": "code",
   "execution_count": 58,
   "id": "00de1860",
   "metadata": {},
   "outputs": [],
   "source": [
    "# data = pd.read_csv('data/final_daa2.csv',lineterminator='\\n')\n",
    "# sample = data.sample(1000, random_state=13).reset_index()\n",
    "# sample.to_csv('data/sample.csv',index=False)\n",
    "# sample['Text'].to_csv('data/sample_text.csv',index=False)\n"
   ]
  },
  {
   "cell_type": "code",
   "execution_count": 99,
   "id": "e8987902",
   "metadata": {},
   "outputs": [],
   "source": [
    "tweets = pd.read_csv('data/sample_text.csv')\n",
    "data = pd.read_csv('data/sample.csv')\n"
   ]
  },
  {
   "cell_type": "code",
   "execution_count": 100,
   "id": "d65c330b",
   "metadata": {},
   "outputs": [
    {
     "data": {
      "text/html": [
       "<div>\n",
       "<style scoped>\n",
       "    .dataframe tbody tr th:only-of-type {\n",
       "        vertical-align: middle;\n",
       "    }\n",
       "\n",
       "    .dataframe tbody tr th {\n",
       "        vertical-align: top;\n",
       "    }\n",
       "\n",
       "    .dataframe thead th {\n",
       "        text-align: right;\n",
       "    }\n",
       "</style>\n",
       "<table border=\"1\" class=\"dataframe\">\n",
       "  <thead>\n",
       "    <tr style=\"text-align: right;\">\n",
       "      <th></th>\n",
       "      <th>Text</th>\n",
       "    </tr>\n",
       "  </thead>\n",
       "  <tbody>\n",
       "    <tr>\n",
       "      <th>0</th>\n",
       "      <td>Im no longer a vegetarian but I do my best to keep meat consumption minimal because animal consumption (especially beef) is one of the largest drivers of climate change.</td>\n",
       "    </tr>\n",
       "    <tr>\n",
       "      <th>1</th>\n",
       "      <td>What happened to global warming? How r they going to be left out in the cold? U r a real</td>\n",
       "    </tr>\n",
       "    <tr>\n",
       "      <th>2</th>\n",
       "      <td>\"Greenland is going to be the canary in the coal mine and the canary is already pretty much dead at this point\" Ian Howat.  The Arctic is at the point of no return right now. climate ClimateEmergency</td>\n",
       "    </tr>\n",
       "    <tr>\n",
       "      <th>3</th>\n",
       "      <td>The final boss will be climate change. I hope its not too late.</td>\n",
       "    </tr>\n",
       "    <tr>\n",
       "      <th>4</th>\n",
       "      <td>The great America ignore poverty in a growing economy leaving many Homeless and with out work sustainable salaries.</td>\n",
       "    </tr>\n",
       "  </tbody>\n",
       "</table>\n",
       "</div>"
      ],
      "text/plain": [
       "                                                                                                                                                                                                      Text\n",
       "0  Im no longer a vegetarian but I do my best to keep meat consumption minimal because animal consumption (especially beef) is one of the largest drivers of climate change.                              \n",
       "1    What happened to global warming? How r they going to be left out in the cold? U r a real                                                                                                             \n",
       "2  \"Greenland is going to be the canary in the coal mine and the canary is already pretty much dead at this point\" Ian Howat.  The Arctic is at the point of no return right now. climate ClimateEmergency\n",
       "3    The final boss will be climate change. I hope its not too late.                                                                                                                                      \n",
       "4    The great America ignore poverty in a growing economy leaving many Homeless and with out work sustainable salaries.                                                                                  "
      ]
     },
     "execution_count": 100,
     "metadata": {},
     "output_type": "execute_result"
    }
   ],
   "source": [
    "tweets.head()"
   ]
  },
  {
   "cell_type": "code",
   "execution_count": 66,
   "id": "8614cc57",
   "metadata": {},
   "outputs": [],
   "source": [
    "def extract_targz(targz_file, output_path = ''):\n",
    "    if targz_file.endswith(\"tar.gz\"):\n",
    "        tar = tarfile.open(targz_file, \"r:gz\")\n",
    "        tar.extractall(path = output_path)\n",
    "        tar.close()\n",
    "    elif targz_file.endswith(\"tar\"):\n",
    "        tar = tarfile.open(targz_file, \"r:\")\n",
    "        tar.extractall(path = output_path)\n",
    "        tar.close()"
   ]
  },
  {
   "cell_type": "code",
   "execution_count": 89,
   "id": "8d94f5a5",
   "metadata": {},
   "outputs": [],
   "source": [
    "output_path = 'results' \n",
    "# extract_targz('output.tar.gz', output_path)"
   ]
  },
  {
   "cell_type": "code",
   "execution_count": 90,
   "id": "e3f64dc4",
   "metadata": {},
   "outputs": [
    {
     "name": "stdout",
     "output_type": "stream",
     "text": [
      "Number of records in the output: 1002\n"
     ]
    }
   ],
   "source": [
    "input_file = output_path + '/output'\n",
    "results = [json.loads(line) for line in open(input_file, 'r')]\n",
    "print('Number of records in the output:',len(results))"
   ]
  },
  {
   "cell_type": "code",
   "execution_count": 91,
   "id": "aa06d28f",
   "metadata": {},
   "outputs": [
    {
     "data": {
      "text/plain": [
       "{'File': 'sample_text.csv',\n",
       " 'Line': 2,\n",
       " 'Sentiment': 'NEUTRAL',\n",
       " 'SentimentScore': {'Mixed': 0.0028672439511865377,\n",
       "  'Negative': 0.29944363236427307,\n",
       "  'Neutral': 0.6850440502166748,\n",
       "  'Positive': 0.012645161710679531}}"
      ]
     },
     "execution_count": 91,
     "metadata": {},
     "output_type": "execute_result"
    }
   ],
   "source": [
    "results[0]"
   ]
  },
  {
   "cell_type": "code",
   "execution_count": 92,
   "id": "6d7ac053",
   "metadata": {},
   "outputs": [],
   "source": [
    "# This function parses sentiment data into a dataframe\n",
    "def parse_sentiment(data):\n",
    "    df = pd.DataFrame([item['SentimentScore'] for item in data])\n",
    "    df['File'] = [item.get('File') for item in data]\n",
    "    df['Sentiment'] = [item.get('Sentiment') for item in data]\n",
    "    df['Line'] = [item.get('Line') for item in data]\n",
    "    df.set_index('Line', inplace = True)\n",
    "    \n",
    "    return(df)"
   ]
  },
  {
   "cell_type": "code",
   "execution_count": 93,
   "id": "6efe3e79",
   "metadata": {},
   "outputs": [],
   "source": [
    "sentiment_results = parse_sentiment(results).sort_index()"
   ]
  },
  {
   "cell_type": "code",
   "execution_count": 94,
   "id": "2d639caf",
   "metadata": {},
   "outputs": [
    {
     "data": {
      "text/html": [
       "<div>\n",
       "<style scoped>\n",
       "    .dataframe tbody tr th:only-of-type {\n",
       "        vertical-align: middle;\n",
       "    }\n",
       "\n",
       "    .dataframe tbody tr th {\n",
       "        vertical-align: top;\n",
       "    }\n",
       "\n",
       "    .dataframe thead th {\n",
       "        text-align: right;\n",
       "    }\n",
       "</style>\n",
       "<table border=\"1\" class=\"dataframe\">\n",
       "  <thead>\n",
       "    <tr style=\"text-align: right;\">\n",
       "      <th></th>\n",
       "      <th>Mixed</th>\n",
       "      <th>Negative</th>\n",
       "      <th>Neutral</th>\n",
       "      <th>Positive</th>\n",
       "      <th>File</th>\n",
       "      <th>Sentiment</th>\n",
       "    </tr>\n",
       "    <tr>\n",
       "      <th>Line</th>\n",
       "      <th></th>\n",
       "      <th></th>\n",
       "      <th></th>\n",
       "      <th></th>\n",
       "      <th></th>\n",
       "      <th></th>\n",
       "    </tr>\n",
       "  </thead>\n",
       "  <tbody>\n",
       "    <tr>\n",
       "      <th>0</th>\n",
       "      <td>0.000220</td>\n",
       "      <td>0.002068</td>\n",
       "      <td>0.995343</td>\n",
       "      <td>0.002368</td>\n",
       "      <td>sample_text.csv</td>\n",
       "      <td>NEUTRAL</td>\n",
       "    </tr>\n",
       "    <tr>\n",
       "      <th>1</th>\n",
       "      <td>0.006156</td>\n",
       "      <td>0.018152</td>\n",
       "      <td>0.410521</td>\n",
       "      <td>0.565171</td>\n",
       "      <td>sample_text.csv</td>\n",
       "      <td>POSITIVE</td>\n",
       "    </tr>\n",
       "    <tr>\n",
       "      <th>2</th>\n",
       "      <td>0.002867</td>\n",
       "      <td>0.299444</td>\n",
       "      <td>0.685044</td>\n",
       "      <td>0.012645</td>\n",
       "      <td>sample_text.csv</td>\n",
       "      <td>NEUTRAL</td>\n",
       "    </tr>\n",
       "    <tr>\n",
       "      <th>3</th>\n",
       "      <td>0.000066</td>\n",
       "      <td>0.826803</td>\n",
       "      <td>0.166682</td>\n",
       "      <td>0.006449</td>\n",
       "      <td>sample_text.csv</td>\n",
       "      <td>NEGATIVE</td>\n",
       "    </tr>\n",
       "    <tr>\n",
       "      <th>4</th>\n",
       "      <td>0.010772</td>\n",
       "      <td>0.099767</td>\n",
       "      <td>0.555602</td>\n",
       "      <td>0.333859</td>\n",
       "      <td>sample_text.csv</td>\n",
       "      <td>NEUTRAL</td>\n",
       "    </tr>\n",
       "    <tr>\n",
       "      <th>...</th>\n",
       "      <td>...</td>\n",
       "      <td>...</td>\n",
       "      <td>...</td>\n",
       "      <td>...</td>\n",
       "      <td>...</td>\n",
       "      <td>...</td>\n",
       "    </tr>\n",
       "    <tr>\n",
       "      <th>997</th>\n",
       "      <td>0.000281</td>\n",
       "      <td>0.056920</td>\n",
       "      <td>0.917310</td>\n",
       "      <td>0.025489</td>\n",
       "      <td>sample_text.csv</td>\n",
       "      <td>NEUTRAL</td>\n",
       "    </tr>\n",
       "    <tr>\n",
       "      <th>998</th>\n",
       "      <td>0.004312</td>\n",
       "      <td>0.771456</td>\n",
       "      <td>0.134775</td>\n",
       "      <td>0.089457</td>\n",
       "      <td>sample_text.csv</td>\n",
       "      <td>NEGATIVE</td>\n",
       "    </tr>\n",
       "    <tr>\n",
       "      <th>999</th>\n",
       "      <td>0.000853</td>\n",
       "      <td>0.699286</td>\n",
       "      <td>0.119540</td>\n",
       "      <td>0.180321</td>\n",
       "      <td>sample_text.csv</td>\n",
       "      <td>NEGATIVE</td>\n",
       "    </tr>\n",
       "    <tr>\n",
       "      <th>1000</th>\n",
       "      <td>0.041321</td>\n",
       "      <td>0.597903</td>\n",
       "      <td>0.349597</td>\n",
       "      <td>0.011180</td>\n",
       "      <td>sample_text.csv</td>\n",
       "      <td>NEGATIVE</td>\n",
       "    </tr>\n",
       "    <tr>\n",
       "      <th>1001</th>\n",
       "      <td>0.000116</td>\n",
       "      <td>0.044817</td>\n",
       "      <td>0.808571</td>\n",
       "      <td>0.146495</td>\n",
       "      <td>sample_text.csv</td>\n",
       "      <td>NEUTRAL</td>\n",
       "    </tr>\n",
       "  </tbody>\n",
       "</table>\n",
       "<p>1002 rows × 6 columns</p>\n",
       "</div>"
      ],
      "text/plain": [
       "         Mixed  Negative   Neutral  Positive             File Sentiment\n",
       "Line                                                                   \n",
       "0     0.000220  0.002068  0.995343  0.002368  sample_text.csv  NEUTRAL \n",
       "1     0.006156  0.018152  0.410521  0.565171  sample_text.csv  POSITIVE\n",
       "2     0.002867  0.299444  0.685044  0.012645  sample_text.csv  NEUTRAL \n",
       "3     0.000066  0.826803  0.166682  0.006449  sample_text.csv  NEGATIVE\n",
       "4     0.010772  0.099767  0.555602  0.333859  sample_text.csv  NEUTRAL \n",
       "...        ...       ...       ...       ...              ...       ...\n",
       "997   0.000281  0.056920  0.917310  0.025489  sample_text.csv  NEUTRAL \n",
       "998   0.004312  0.771456  0.134775  0.089457  sample_text.csv  NEGATIVE\n",
       "999   0.000853  0.699286  0.119540  0.180321  sample_text.csv  NEGATIVE\n",
       "1000  0.041321  0.597903  0.349597  0.011180  sample_text.csv  NEGATIVE\n",
       "1001  0.000116  0.044817  0.808571  0.146495  sample_text.csv  NEUTRAL \n",
       "\n",
       "[1002 rows x 6 columns]"
      ]
     },
     "execution_count": 94,
     "metadata": {},
     "output_type": "execute_result"
    }
   ],
   "source": [
    "sentiment_results"
   ]
  },
  {
   "cell_type": "code",
   "execution_count": 96,
   "id": "a94d4338",
   "metadata": {},
   "outputs": [],
   "source": [
    "df = pd.merge(tweets, sentiment_results,right_on='Line',left_index=True)"
   ]
  },
  {
   "cell_type": "code",
   "execution_count": 117,
   "id": "e617bca4",
   "metadata": {},
   "outputs": [
    {
     "data": {
      "text/html": [
       "<div>\n",
       "<style scoped>\n",
       "    .dataframe tbody tr th:only-of-type {\n",
       "        vertical-align: middle;\n",
       "    }\n",
       "\n",
       "    .dataframe tbody tr th {\n",
       "        vertical-align: top;\n",
       "    }\n",
       "\n",
       "    .dataframe thead th {\n",
       "        text-align: right;\n",
       "    }\n",
       "</style>\n",
       "<table border=\"1\" class=\"dataframe\">\n",
       "  <thead>\n",
       "    <tr style=\"text-align: right;\">\n",
       "      <th></th>\n",
       "      <th>Text</th>\n",
       "      <th>Mixed</th>\n",
       "      <th>Negative</th>\n",
       "      <th>Neutral</th>\n",
       "      <th>Positive</th>\n",
       "      <th>File</th>\n",
       "      <th>Sentiment</th>\n",
       "    </tr>\n",
       "    <tr>\n",
       "      <th>Line</th>\n",
       "      <th></th>\n",
       "      <th></th>\n",
       "      <th></th>\n",
       "      <th></th>\n",
       "      <th></th>\n",
       "      <th></th>\n",
       "      <th></th>\n",
       "    </tr>\n",
       "  </thead>\n",
       "  <tbody>\n",
       "    <tr>\n",
       "      <th>698</th>\n",
       "      <td>Sounds good!  ReadingFestival \"still a mess, but actually slightly better than previous years\" in terms of rubbish left behind.   And more importantly, committing to slash CarbonEmissions by 50% by 2030</td>\n",
       "      <td>0.000670</td>\n",
       "      <td>0.251923</td>\n",
       "      <td>0.734183</td>\n",
       "      <td>0.013225</td>\n",
       "      <td>sample_text.csv</td>\n",
       "      <td>NEUTRAL</td>\n",
       "    </tr>\n",
       "    <tr>\n",
       "      <th>577</th>\n",
       "      <td>A Disillusioned ExxonMobil Engineer Quits to Take Action on Climate Change and Stop Making the World Worse</td>\n",
       "      <td>0.000247</td>\n",
       "      <td>0.000711</td>\n",
       "      <td>0.176913</td>\n",
       "      <td>0.822129</td>\n",
       "      <td>sample_text.csv</td>\n",
       "      <td>POSITIVE</td>\n",
       "    </tr>\n",
       "    <tr>\n",
       "      <th>763</th>\n",
       "      <td>The Amazon hosts the largest RainForest on the planet The lung of world can disappear in 50 years if no action is taken   SGK-PLANET ClimateChange GlobalWarming ClimateEmergency ClimateCrisis Environment Sustainability ClimateAction Wood Tree</td>\n",
       "      <td>0.200953</td>\n",
       "      <td>0.444570</td>\n",
       "      <td>0.308352</td>\n",
       "      <td>0.046125</td>\n",
       "      <td>sample_text.csv</td>\n",
       "      <td>NEGATIVE</td>\n",
       "    </tr>\n",
       "    <tr>\n",
       "      <th>790</th>\n",
       "      <td>Interesting piece from one of the MayorsResilienceFund winners on achieving netzero in buildings. carbonneutral carbonemissions</td>\n",
       "      <td>0.000122</td>\n",
       "      <td>0.284968</td>\n",
       "      <td>0.710535</td>\n",
       "      <td>0.004375</td>\n",
       "      <td>sample_text.csv</td>\n",
       "      <td>NEUTRAL</td>\n",
       "    </tr>\n",
       "    <tr>\n",
       "      <th>520</th>\n",
       "      <td>It is an eerie feeling listening to news coverage of Ida while a lightning storm rolls overhead in Toronto Canada.  wxtwitter ONwx ONstorm extremeweather</td>\n",
       "      <td>0.000328</td>\n",
       "      <td>0.005418</td>\n",
       "      <td>0.954675</td>\n",
       "      <td>0.039580</td>\n",
       "      <td>sample_text.csv</td>\n",
       "      <td>NEUTRAL</td>\n",
       "    </tr>\n",
       "  </tbody>\n",
       "</table>\n",
       "</div>"
      ],
      "text/plain": [
       "                                                                                                                                                                                                                                                      Text  \\\n",
       "Line                                                                                                                                                                                                                                                         \n",
       "698   Sounds good!  ReadingFestival \"still a mess, but actually slightly better than previous years\" in terms of rubbish left behind.   And more importantly, committing to slash CarbonEmissions by 50% by 2030                                             \n",
       "577   A Disillusioned ExxonMobil Engineer Quits to Take Action on Climate Change and Stop Making the World Worse                                                                                                                                             \n",
       "763   The Amazon hosts the largest RainForest on the planet The lung of world can disappear in 50 years if no action is taken   SGK-PLANET ClimateChange GlobalWarming ClimateEmergency ClimateCrisis Environment Sustainability ClimateAction Wood Tree     \n",
       "790   Interesting piece from one of the MayorsResilienceFund winners on achieving netzero in buildings. carbonneutral carbonemissions                                                                                                                        \n",
       "520   It is an eerie feeling listening to news coverage of Ida while a lightning storm rolls overhead in Toronto Canada.  wxtwitter ONwx ONstorm extremeweather                                                                                              \n",
       "\n",
       "         Mixed  Negative   Neutral  Positive             File Sentiment  \n",
       "Line                                                                     \n",
       "698   0.000670  0.251923  0.734183  0.013225  sample_text.csv  NEUTRAL   \n",
       "577   0.000247  0.000711  0.176913  0.822129  sample_text.csv  POSITIVE  \n",
       "763   0.200953  0.444570  0.308352  0.046125  sample_text.csv  NEGATIVE  \n",
       "790   0.000122  0.284968  0.710535  0.004375  sample_text.csv  NEUTRAL   \n",
       "520   0.000328  0.005418  0.954675  0.039580  sample_text.csv  NEUTRAL   "
      ]
     },
     "execution_count": 117,
     "metadata": {},
     "output_type": "execute_result"
    }
   ],
   "source": [
    "df.sample(5, random_state=4)"
   ]
  },
  {
   "cell_type": "code",
   "execution_count": 111,
   "id": "53506a29",
   "metadata": {},
   "outputs": [],
   "source": [
    "temp = pd.merge(df, data, on='Text').drop_duplicates('Text')"
   ]
  },
  {
   "cell_type": "code",
   "execution_count": 118,
   "id": "e84d60be",
   "metadata": {},
   "outputs": [],
   "source": [
    "temp = temp.drop(columns=['Unnamed: 0','index','File','Tweet Id','Username'])\n"
   ]
  },
  {
   "cell_type": "code",
   "execution_count": 119,
   "id": "f4b51dbf",
   "metadata": {},
   "outputs": [
    {
     "data": {
      "text/html": [
       "<div>\n",
       "<style scoped>\n",
       "    .dataframe tbody tr th:only-of-type {\n",
       "        vertical-align: middle;\n",
       "    }\n",
       "\n",
       "    .dataframe tbody tr th {\n",
       "        vertical-align: top;\n",
       "    }\n",
       "\n",
       "    .dataframe thead th {\n",
       "        text-align: right;\n",
       "    }\n",
       "</style>\n",
       "<table border=\"1\" class=\"dataframe\">\n",
       "  <thead>\n",
       "    <tr style=\"text-align: right;\">\n",
       "      <th></th>\n",
       "      <th>Text</th>\n",
       "      <th>Mixed</th>\n",
       "      <th>Negative</th>\n",
       "      <th>Neutral</th>\n",
       "      <th>Positive</th>\n",
       "      <th>Sentiment</th>\n",
       "      <th>Datetime</th>\n",
       "      <th>Verified Status</th>\n",
       "      <th>Follower Count</th>\n",
       "      <th>Location</th>\n",
       "      <th>Reply Counts</th>\n",
       "      <th>Retweet Counts</th>\n",
       "      <th>Like Count</th>\n",
       "      <th>Media</th>\n",
       "      <th>Keyword</th>\n",
       "      <th>Year</th>\n",
       "    </tr>\n",
       "  </thead>\n",
       "  <tbody>\n",
       "    <tr>\n",
       "      <th>0</th>\n",
       "      <td>Im no longer a vegetarian but I do my best to keep meat consumption minimal because animal consumption (especially beef) is one of the largest drivers of climate change.</td>\n",
       "      <td>0.000220</td>\n",
       "      <td>0.002068</td>\n",
       "      <td>0.995343</td>\n",
       "      <td>0.002368</td>\n",
       "      <td>NEUTRAL</td>\n",
       "      <td>2021-09-06 23:59:59+00:00</td>\n",
       "      <td>False</td>\n",
       "      <td>89.0</td>\n",
       "      <td>East Rutherford, NJ, US</td>\n",
       "      <td>0.0</td>\n",
       "      <td>0.0</td>\n",
       "      <td>1.0</td>\n",
       "      <td>[Photo(previewUrl='https://pbs.twimg.com/media/E-pANizXMAUvty6?format=jpg&amp;name=small', fullUrl='https://pbs.twimg.com/media/E-pANizXMAUvty6?format=jpg&amp;name=large')]</td>\n",
       "      <td>climatechange</td>\n",
       "      <td>2021.0</td>\n",
       "    </tr>\n",
       "    <tr>\n",
       "      <th>1</th>\n",
       "      <td>What happened to global warming? How r they going to be left out in the cold? U r a real</td>\n",
       "      <td>0.006156</td>\n",
       "      <td>0.018152</td>\n",
       "      <td>0.410521</td>\n",
       "      <td>0.565171</td>\n",
       "      <td>POSITIVE</td>\n",
       "      <td>2021-05-07 23:09:19+00:00</td>\n",
       "      <td>False</td>\n",
       "      <td>0.0</td>\n",
       "      <td>NaN</td>\n",
       "      <td>0.0</td>\n",
       "      <td>0.0</td>\n",
       "      <td>0.0</td>\n",
       "      <td>[Gif(thumbnailUrl='https://pbs.twimg.com/tweet_video_thumb/E00iqWkWQAEn3DV.jpg', variants=[VideoVariant(contentType='video/mp4', url='https://video.twimg.com/tweet_video/E00iqWkWQAEn3DV.mp4', bitrate=0)])]</td>\n",
       "      <td>globalwarming</td>\n",
       "      <td>2021.0</td>\n",
       "    </tr>\n",
       "  </tbody>\n",
       "</table>\n",
       "</div>"
      ],
      "text/plain": [
       "                                                                                                                                                                          Text  \\\n",
       "0  Im no longer a vegetarian but I do my best to keep meat consumption minimal because animal consumption (especially beef) is one of the largest drivers of climate change.     \n",
       "1    What happened to global warming? How r they going to be left out in the cold? U r a real                                                                                    \n",
       "\n",
       "      Mixed  Negative   Neutral  Positive Sentiment  \\\n",
       "0  0.000220  0.002068  0.995343  0.002368  NEUTRAL    \n",
       "1  0.006156  0.018152  0.410521  0.565171  POSITIVE   \n",
       "\n",
       "                    Datetime Verified Status  Follower Count  \\\n",
       "0  2021-09-06 23:59:59+00:00  False           89.0             \n",
       "1  2021-05-07 23:09:19+00:00  False           0.0              \n",
       "\n",
       "                  Location Reply Counts  Retweet Counts  Like Count  \\\n",
       "0  East Rutherford, NJ, US  0.0          0.0             1.0          \n",
       "1  NaN                      0.0          0.0             0.0          \n",
       "\n",
       "                                                                                                                                                                                                           Media  \\\n",
       "0  [Photo(previewUrl='https://pbs.twimg.com/media/E-pANizXMAUvty6?format=jpg&name=small', fullUrl='https://pbs.twimg.com/media/E-pANizXMAUvty6?format=jpg&name=large')]                                            \n",
       "1  [Gif(thumbnailUrl='https://pbs.twimg.com/tweet_video_thumb/E00iqWkWQAEn3DV.jpg', variants=[VideoVariant(contentType='video/mp4', url='https://video.twimg.com/tweet_video/E00iqWkWQAEn3DV.mp4', bitrate=0)])]   \n",
       "\n",
       "         Keyword    Year  \n",
       "0  climatechange  2021.0  \n",
       "1  globalwarming  2021.0  "
      ]
     },
     "execution_count": 119,
     "metadata": {},
     "output_type": "execute_result"
    }
   ],
   "source": [
    "temp.head(2)"
   ]
  },
  {
   "cell_type": "code",
   "execution_count": 129,
   "id": "c4c2b616",
   "metadata": {},
   "outputs": [
    {
     "data": {
      "text/plain": [
       "<AxesSubplot: >"
      ]
     },
     "execution_count": 129,
     "metadata": {},
     "output_type": "execute_result"
    },
    {
     "data": {
      "image/png": "[encoded data removed]",
      "text/plain": [
       "<Figure size 432x288 with 1 Axes>"
      ]
     },
     "metadata": {
      "needs_background": "light"
     },
     "output_type": "display_data"
    }
   ],
   "source": [
    "temp.Keyword.value_counts().plot(kind='bar')"
   ]
  },
  {
   "cell_type": "code",
   "execution_count": 130,
   "id": "c8a310e3",
   "metadata": {},
   "outputs": [
    {
     "data": {
      "text/plain": [
       "<AxesSubplot: >"
      ]
     },
     "execution_count": 130,
     "metadata": {},
     "output_type": "execute_result"
    },
    {
     "data": {
      "image/png": "[encoded data removed]",
      "text/plain": [
       "<Figure size 432x288 with 1 Axes>"
      ]
     },
     "metadata": {
      "needs_background": "light"
     },
     "output_type": "display_data"
    }
   ],
   "source": [
    "temp.Sentiment.value_counts().plot(kind='bar')"
   ]
  },
  {
   "cell_type": "code",
   "execution_count": null,
   "id": "2b7843b1",
   "metadata": {},
   "outputs": [],
   "source": []
  },
  {
   "cell_type": "code",
   "execution_count": null,
   "id": "b8573014",
   "metadata": {},
   "outputs": [],
   "source": []
  },
  {
   "cell_type": "code",
   "execution_count": null,
   "id": "1720841d",
   "metadata": {},
   "outputs": [],
   "source": []
  },
  {
   "cell_type": "code",
   "execution_count": null,
   "id": "6f312e67",
   "metadata": {},
   "outputs": [],
   "source": []
  },
  {
   "cell_type": "code",
   "execution_count": null,
   "id": "57acb98c",
   "metadata": {},
   "outputs": [],
   "source": []
  },
  {
   "cell_type": "code",
   "execution_count": null,
   "id": "82c4dcec",
   "metadata": {},
   "outputs": [],
   "source": []
  }
 ],
 "metadata": {
  "kernelspec": {
   "display_name": "Python 3 (ipykernel)",
   "language": "python",
   "name": "python3"
  },
  "language_info": {
   "codemirror_mode": {
    "name": "ipython",
    "version": 3
   },
   "file_extension": ".py",
   "mimetype": "text/x-python",
   "name": "python",
   "nbconvert_exporter": "python",
   "pygments_lexer": "ipython3",
   "version": "3.8.12"
  }
 },
 "nbformat": 4,
 "nbformat_minor": 5
}
