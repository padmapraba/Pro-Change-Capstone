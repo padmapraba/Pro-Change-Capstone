{
 "cells": [
  {
   "cell_type": "markdown",
   "metadata": {},
   "source": [
    "# AWS Comprehend Sentiment Analysis Using Python"
   ]
  },
  {
   "cell_type": "markdown",
   "metadata": {},
   "source": []
  },
  {
   "cell_type": "code",
   "execution_count": 1,
   "metadata": {},
   "outputs": [],
   "source": [
    "import boto3\n",
    "from botocore.exceptions import ClientError\n",
    "import pandas as pd\n",
    "import json\n",
    "import tarfile"
   ]
  },
  {
   "cell_type": "code",
   "execution_count": 2,
   "metadata": {},
   "outputs": [],
   "source": [
    "df = pd.read_csv('data/final_data_clean.csv', lineterminator='\\n') \n",
    "df2 = pd.read_csv('data/tweet_1k.csv') "
   ]
  },
  {
   "cell_type": "code",
   "execution_count": 4,
   "metadata": {},
   "outputs": [
    {
     "data": {
      "text/html": [
       "<div>\n",
       "<style scoped>\n",
       "    .dataframe tbody tr th:only-of-type {\n",
       "        vertical-align: middle;\n",
       "    }\n",
       "\n",
       "    .dataframe tbody tr th {\n",
       "        vertical-align: top;\n",
       "    }\n",
       "\n",
       "    .dataframe thead th {\n",
       "        text-align: right;\n",
       "    }\n",
       "</style>\n",
       "<table border=\"1\" class=\"dataframe\">\n",
       "  <thead>\n",
       "    <tr style=\"text-align: right;\">\n",
       "      <th></th>\n",
       "      <th>Unnamed: 0.1</th>\n",
       "      <th>Unnamed: 0</th>\n",
       "      <th>Datetime</th>\n",
       "      <th>Tweet Id</th>\n",
       "      <th>Text</th>\n",
       "      <th>Username</th>\n",
       "      <th>Verified Status</th>\n",
       "      <th>Follower Count</th>\n",
       "      <th>Location</th>\n",
       "      <th>Reply Counts</th>\n",
       "      <th>Retweet Counts</th>\n",
       "      <th>Like Count</th>\n",
       "      <th>Media</th>\n",
       "      <th>Keyword</th>\n",
       "      <th>Year</th>\n",
       "    </tr>\n",
       "  </thead>\n",
       "  <tbody>\n",
       "    <tr>\n",
       "      <th>735268</th>\n",
       "      <td>735308</td>\n",
       "      <td>19660</td>\n",
       "      <td>2020-07-15 23:47:26+00:00</td>\n",
       "      <td>1283548762875375616</td>\n",
       "      <td>15 communities set records for most sunny day ...</td>\n",
       "      <td>KateReimann</td>\n",
       "      <td>False</td>\n",
       "      <td>513.0</td>\n",
       "      <td>Hawaii</td>\n",
       "      <td>0.0</td>\n",
       "      <td>0.0</td>\n",
       "      <td>1.0</td>\n",
       "      <td>NaN</td>\n",
       "      <td>climatechange</td>\n",
       "      <td>2020</td>\n",
       "    </tr>\n",
       "    <tr>\n",
       "      <th>643946</th>\n",
       "      <td>643980</td>\n",
       "      <td>1336</td>\n",
       "      <td>2018-01-14 23:50:05+00:00</td>\n",
       "      <td>952689306451218432</td>\n",
       "      <td>2017 was the third warmest year on record for ...</td>\n",
       "      <td>funds4disaster</td>\n",
       "      <td>True</td>\n",
       "      <td>6101.0</td>\n",
       "      <td>Washington, DC</td>\n",
       "      <td>0.0</td>\n",
       "      <td>1.0</td>\n",
       "      <td>2.0</td>\n",
       "      <td>NaN</td>\n",
       "      <td>climatechange</td>\n",
       "      <td>2018</td>\n",
       "    </tr>\n",
       "    <tr>\n",
       "      <th>134875</th>\n",
       "      <td>134878</td>\n",
       "      <td>25277</td>\n",
       "      <td>2021-09-10 23:30:01+00:00</td>\n",
       "      <td>1436472055948587014</td>\n",
       "      <td>This building is sustainable. Part of a winery...</td>\n",
       "      <td>semodu_pr</td>\n",
       "      <td>False</td>\n",
       "      <td>8695.0</td>\n",
       "      <td>Stuttgart, München, Birmingham</td>\n",
       "      <td>0.0</td>\n",
       "      <td>0.0</td>\n",
       "      <td>0.0</td>\n",
       "      <td>[Photo(previewUrl='https://pbs.twimg.com/media...</td>\n",
       "      <td>sustainable</td>\n",
       "      <td>2021</td>\n",
       "    </tr>\n",
       "    <tr>\n",
       "      <th>58431</th>\n",
       "      <td>58434</td>\n",
       "      <td>21933</td>\n",
       "      <td>2019-08-08 23:46:28+00:00</td>\n",
       "      <td>1159611868815642624</td>\n",
       "      <td>How does a university walk the talk of buildin...</td>\n",
       "      <td>UCNZ</td>\n",
       "      <td>True</td>\n",
       "      <td>10916.0</td>\n",
       "      <td>Christchurch, Canterbury, NZ</td>\n",
       "      <td>0.0</td>\n",
       "      <td>0.0</td>\n",
       "      <td>7.0</td>\n",
       "      <td>NaN</td>\n",
       "      <td>sustainable</td>\n",
       "      <td>2019</td>\n",
       "    </tr>\n",
       "    <tr>\n",
       "      <th>57338</th>\n",
       "      <td>57341</td>\n",
       "      <td>20840</td>\n",
       "      <td>2019-07-28 23:30:25+00:00</td>\n",
       "      <td>1155621561178697730</td>\n",
       "      <td>All Natural Bamboo soap drying dish, Wooden Ba...</td>\n",
       "      <td>ArtByKeshia</td>\n",
       "      <td>False</td>\n",
       "      <td>822.0</td>\n",
       "      <td>NaN</td>\n",
       "      <td>0.0</td>\n",
       "      <td>0.0</td>\n",
       "      <td>0.0</td>\n",
       "      <td>NaN</td>\n",
       "      <td>sustainable</td>\n",
       "      <td>2019</td>\n",
       "    </tr>\n",
       "    <tr>\n",
       "      <th>...</th>\n",
       "      <td>...</td>\n",
       "      <td>...</td>\n",
       "      <td>...</td>\n",
       "      <td>...</td>\n",
       "      <td>...</td>\n",
       "      <td>...</td>\n",
       "      <td>...</td>\n",
       "      <td>...</td>\n",
       "      <td>...</td>\n",
       "      <td>...</td>\n",
       "      <td>...</td>\n",
       "      <td>...</td>\n",
       "      <td>...</td>\n",
       "      <td>...</td>\n",
       "      <td>...</td>\n",
       "    </tr>\n",
       "    <tr>\n",
       "      <th>492904</th>\n",
       "      <td>492938</td>\n",
       "      <td>7475</td>\n",
       "      <td>2021-03-16 21:18:54+00:00</td>\n",
       "      <td>1371934018896207873</td>\n",
       "      <td>ClimateEmergency auspol nswpol</td>\n",
       "      <td>XRHornsbyShire</td>\n",
       "      <td>False</td>\n",
       "      <td>1144.0</td>\n",
       "      <td>Darug &amp; Guringai Country</td>\n",
       "      <td>0.0</td>\n",
       "      <td>0.0</td>\n",
       "      <td>0.0</td>\n",
       "      <td>NaN</td>\n",
       "      <td>ClimateEmergency</td>\n",
       "      <td>2021</td>\n",
       "    </tr>\n",
       "    <tr>\n",
       "      <th>827765</th>\n",
       "      <td>827808</td>\n",
       "      <td>15414</td>\n",
       "      <td>2021-12-06 17:20:56+00:00</td>\n",
       "      <td>1467906920493191170</td>\n",
       "      <td>Another impressive record high for European ca...</td>\n",
       "      <td>KamKazemi</td>\n",
       "      <td>False</td>\n",
       "      <td>477.0</td>\n",
       "      <td>The North</td>\n",
       "      <td>0.0</td>\n",
       "      <td>0.0</td>\n",
       "      <td>0.0</td>\n",
       "      <td>NaN</td>\n",
       "      <td>carbonemissions</td>\n",
       "      <td>2021</td>\n",
       "    </tr>\n",
       "    <tr>\n",
       "      <th>279332</th>\n",
       "      <td>279366</td>\n",
       "      <td>4324</td>\n",
       "      <td>2021-02-13 23:46:35+00:00</td>\n",
       "      <td>1360737162489167875</td>\n",
       "      <td>Evidence of global warming</td>\n",
       "      <td>levidacruz</td>\n",
       "      <td>False</td>\n",
       "      <td>9631.0</td>\n",
       "      <td>Las Vegas, NV</td>\n",
       "      <td>0.0</td>\n",
       "      <td>0.0</td>\n",
       "      <td>0.0</td>\n",
       "      <td>NaN</td>\n",
       "      <td>globalwarming</td>\n",
       "      <td>2021</td>\n",
       "    </tr>\n",
       "    <tr>\n",
       "      <th>821704</th>\n",
       "      <td>821747</td>\n",
       "      <td>9353</td>\n",
       "      <td>2021-08-13 06:44:20+00:00</td>\n",
       "      <td>1426072108497506307</td>\n",
       "      <td>Que   vienne faire un tour ici à Paris, avec...</td>\n",
       "      <td>fanodira</td>\n",
       "      <td>False</td>\n",
       "      <td>50.0</td>\n",
       "      <td>Paris</td>\n",
       "      <td>0.0</td>\n",
       "      <td>0.0</td>\n",
       "      <td>1.0</td>\n",
       "      <td>NaN</td>\n",
       "      <td>carbonemissions</td>\n",
       "      <td>2021</td>\n",
       "    </tr>\n",
       "    <tr>\n",
       "      <th>862622</th>\n",
       "      <td>862665</td>\n",
       "      <td>12216</td>\n",
       "      <td>2020-09-02 09:14:00+00:00</td>\n",
       "      <td>1301085958717075458</td>\n",
       "      <td>Carbonemissions produced by   have dropped by ...</td>\n",
       "      <td>Lydia_PBCToday</td>\n",
       "      <td>False</td>\n",
       "      <td>660.0</td>\n",
       "      <td>Crewe, Cheshire</td>\n",
       "      <td>0.0</td>\n",
       "      <td>0.0</td>\n",
       "      <td>0.0</td>\n",
       "      <td>NaN</td>\n",
       "      <td>carbonneutral</td>\n",
       "      <td>2020</td>\n",
       "    </tr>\n",
       "  </tbody>\n",
       "</table>\n",
       "<p>1000 rows × 15 columns</p>\n",
       "</div>"
      ],
      "text/plain": [
       "        Unnamed: 0.1  Unnamed: 0                   Datetime  \\\n",
       "735268        735308       19660  2020-07-15 23:47:26+00:00   \n",
       "643946        643980        1336  2018-01-14 23:50:05+00:00   \n",
       "134875        134878       25277  2021-09-10 23:30:01+00:00   \n",
       "58431          58434       21933  2019-08-08 23:46:28+00:00   \n",
       "57338          57341       20840  2019-07-28 23:30:25+00:00   \n",
       "...              ...         ...                        ...   \n",
       "492904        492938        7475  2021-03-16 21:18:54+00:00   \n",
       "827765        827808       15414  2021-12-06 17:20:56+00:00   \n",
       "279332        279366        4324  2021-02-13 23:46:35+00:00   \n",
       "821704        821747        9353  2021-08-13 06:44:20+00:00   \n",
       "862622        862665       12216  2020-09-02 09:14:00+00:00   \n",
       "\n",
       "                   Tweet Id  \\\n",
       "735268  1283548762875375616   \n",
       "643946   952689306451218432   \n",
       "134875  1436472055948587014   \n",
       "58431   1159611868815642624   \n",
       "57338   1155621561178697730   \n",
       "...                     ...   \n",
       "492904  1371934018896207873   \n",
       "827765  1467906920493191170   \n",
       "279332  1360737162489167875   \n",
       "821704  1426072108497506307   \n",
       "862622  1301085958717075458   \n",
       "\n",
       "                                                     Text        Username  \\\n",
       "735268  15 communities set records for most sunny day ...     KateReimann   \n",
       "643946  2017 was the third warmest year on record for ...  funds4disaster   \n",
       "134875  This building is sustainable. Part of a winery...       semodu_pr   \n",
       "58431   How does a university walk the talk of buildin...            UCNZ   \n",
       "57338   All Natural Bamboo soap drying dish, Wooden Ba...     ArtByKeshia   \n",
       "...                                                   ...             ...   \n",
       "492904                   ClimateEmergency auspol nswpol    XRHornsbyShire   \n",
       "827765  Another impressive record high for European ca...       KamKazemi   \n",
       "279332                        Evidence of global warming       levidacruz   \n",
       "821704    Que   vienne faire un tour ici à Paris, avec...        fanodira   \n",
       "862622  Carbonemissions produced by   have dropped by ...  Lydia_PBCToday   \n",
       "\n",
       "        Verified Status  Follower Count                        Location  \\\n",
       "735268            False           513.0                          Hawaii   \n",
       "643946             True          6101.0                  Washington, DC   \n",
       "134875            False          8695.0  Stuttgart, München, Birmingham   \n",
       "58431              True         10916.0    Christchurch, Canterbury, NZ   \n",
       "57338             False           822.0                             NaN   \n",
       "...                 ...             ...                             ...   \n",
       "492904            False          1144.0        Darug & Guringai Country   \n",
       "827765            False           477.0                       The North   \n",
       "279332            False          9631.0                   Las Vegas, NV   \n",
       "821704            False            50.0                           Paris   \n",
       "862622            False           660.0                 Crewe, Cheshire   \n",
       "\n",
       "        Reply Counts  Retweet Counts  Like Count  \\\n",
       "735268           0.0             0.0         1.0   \n",
       "643946           0.0             1.0         2.0   \n",
       "134875           0.0             0.0         0.0   \n",
       "58431            0.0             0.0         7.0   \n",
       "57338            0.0             0.0         0.0   \n",
       "...              ...             ...         ...   \n",
       "492904           0.0             0.0         0.0   \n",
       "827765           0.0             0.0         0.0   \n",
       "279332           0.0             0.0         0.0   \n",
       "821704           0.0             0.0         1.0   \n",
       "862622           0.0             0.0         0.0   \n",
       "\n",
       "                                                    Media           Keyword  \\\n",
       "735268                                                NaN     climatechange   \n",
       "643946                                                NaN     climatechange   \n",
       "134875  [Photo(previewUrl='https://pbs.twimg.com/media...       sustainable   \n",
       "58431                                                 NaN       sustainable   \n",
       "57338                                                 NaN       sustainable   \n",
       "...                                                   ...               ...   \n",
       "492904                                                NaN  ClimateEmergency   \n",
       "827765                                                NaN   carbonemissions   \n",
       "279332                                                NaN     globalwarming   \n",
       "821704                                                NaN   carbonemissions   \n",
       "862622                                                NaN     carbonneutral   \n",
       "\n",
       "        Year  \n",
       "735268  2020  \n",
       "643946  2018  \n",
       "134875  2021  \n",
       "58431   2019  \n",
       "57338   2019  \n",
       "...      ...  \n",
       "492904  2021  \n",
       "827765  2021  \n",
       "279332  2021  \n",
       "821704  2021  \n",
       "862622  2020  \n",
       "\n",
       "[1000 rows x 15 columns]"
      ]
     },
     "execution_count": 4,
     "metadata": {},
     "output_type": "execute_result"
    }
   ],
   "source": [
    "df.sample(1000, random_state=5)"
   ]
  },
  {
   "cell_type": "code",
   "execution_count": 36,
   "metadata": {},
   "outputs": [
    {
     "data": {
      "text/html": [
       "<div>\n",
       "<style scoped>\n",
       "    .dataframe tbody tr th:only-of-type {\n",
       "        vertical-align: middle;\n",
       "    }\n",
       "\n",
       "    .dataframe tbody tr th {\n",
       "        vertical-align: top;\n",
       "    }\n",
       "\n",
       "    .dataframe thead th {\n",
       "        text-align: right;\n",
       "    }\n",
       "</style>\n",
       "<table border=\"1\" class=\"dataframe\">\n",
       "  <thead>\n",
       "    <tr style=\"text-align: right;\">\n",
       "      <th></th>\n",
       "      <th>Text</th>\n",
       "    </tr>\n",
       "  </thead>\n",
       "  <tbody>\n",
       "    <tr>\n",
       "      <th>0</th>\n",
       "      <td>ClimateChange Antarctica ClimateCrisis  I want...</td>\n",
       "    </tr>\n",
       "    <tr>\n",
       "      <th>1</th>\n",
       "      <td>The greenest building is (usually) the one tha...</td>\n",
       "    </tr>\n",
       "    <tr>\n",
       "      <th>2</th>\n",
       "      <td>Last Thursday teachers from Makino, Campbell S...</td>\n",
       "    </tr>\n",
       "    <tr>\n",
       "      <th>3</th>\n",
       "      <td>Following Vancouver and many cities in Quebec,...</td>\n",
       "    </tr>\n",
       "    <tr>\n",
       "      <th>4</th>\n",
       "      <td>Like it or not Australia has to do more on Cli...</td>\n",
       "    </tr>\n",
       "    <tr>\n",
       "      <th>...</th>\n",
       "      <td>...</td>\n",
       "    </tr>\n",
       "    <tr>\n",
       "      <th>995</th>\n",
       "      <td>One good thing about COVID19- Shutdowns and WF...</td>\n",
       "    </tr>\n",
       "    <tr>\n",
       "      <th>996</th>\n",
       "      <td>Um, no. Is this how the libs are fighting glob...</td>\n",
       "    </tr>\n",
       "    <tr>\n",
       "      <th>997</th>\n",
       "      <td>Join XR ClimateEmergency</td>\n",
       "    </tr>\n",
       "    <tr>\n",
       "      <th>998</th>\n",
       "      <td>Hail, flames hit state of fire and ice Climate...</td>\n",
       "    </tr>\n",
       "    <tr>\n",
       "      <th>999</th>\n",
       "      <td>Young conservatives who want to tackle the cli...</td>\n",
       "    </tr>\n",
       "  </tbody>\n",
       "</table>\n",
       "<p>1000 rows × 1 columns</p>\n",
       "</div>"
      ],
      "text/plain": [
       "                                                  Text\n",
       "0    ClimateChange Antarctica ClimateCrisis  I want...\n",
       "1    The greenest building is (usually) the one tha...\n",
       "2    Last Thursday teachers from Makino, Campbell S...\n",
       "3    Following Vancouver and many cities in Quebec,...\n",
       "4    Like it or not Australia has to do more on Cli...\n",
       "..                                                 ...\n",
       "995  One good thing about COVID19- Shutdowns and WF...\n",
       "996  Um, no. Is this how the libs are fighting glob...\n",
       "997                           Join XR ClimateEmergency\n",
       "998  Hail, flames hit state of fire and ice Climate...\n",
       "999  Young conservatives who want to tackle the cli...\n",
       "\n",
       "[1000 rows x 1 columns]"
      ]
     },
     "execution_count": 36,
     "metadata": {},
     "output_type": "execute_result"
    }
   ],
   "source": [
    "df2 "
   ]
  },
  {
   "cell_type": "markdown",
   "metadata": {},
   "source": [
    "## Asynchronous Processing - Scheduling an Analysis Job"
   ]
  },
  {
   "cell_type": "markdown",
   "metadata": {},
   "source": []
  },
  {
   "cell_type": "markdown",
   "metadata": {},
   "source": [
    "#### Upload the data to S3"
   ]
  },
  {
   "cell_type": "code",
   "execution_count": 37,
   "metadata": {},
   "outputs": [],
   "source": [
    "local_file_name = 'data/tweet_1k.csv'\n",
    "bucket_name  = 'pro-change-capstone-bucket'\n",
    "aws_file_name = 'input-data/tweet_1k.csv'\n",
    "\n",
    "s3 = boto3.client('s3')\n",
    "\n",
    "# Upload file to specific location\n",
    "s3.upload_file(local_file_name, bucket_name, aws_file_name)"
   ]
  },
  {
   "cell_type": "markdown",
   "metadata": {},
   "source": [
    "#### Configure Sentiment Detection Job"
   ]
  },
  {
   "cell_type": "code",
   "execution_count": 19,
   "metadata": {},
   "outputs": [],
   "source": [
    "# Set these values before running the program\n",
    "input_s3_url = 's3://pro-change-capstone-bucket/input-data/tweet_1k.csv'\n",
    "input_doc_format = 'ONE_DOC_PER_LINE'\n",
    "output_s3_url = 's3://pro-change-capstone-bucket/results/'\n",
    "data_access_role_arn = 'arn:aws:iam::490318335601:role/pro-change-capstone-role'\n",
    "\n",
    "# Set up job configuration\n",
    "input_data_config = {'S3Uri': input_s3_url, 'InputFormat': input_doc_format}\n",
    "output_data_config = {'S3Uri': output_s3_url}"
   ]
  },
  {
   "cell_type": "markdown",
   "metadata": {},
   "source": [
    "#### Run the job"
   ]
  },
  {
   "cell_type": "code",
   "execution_count": 21,
   "metadata": {},
   "outputs": [
    {
     "ename": "InvalidRequestException",
     "evalue": "An error occurred (InvalidRequestException) when calling the StartSentimentDetectionJob operation: ",
     "output_type": "error",
     "traceback": [
      "\u001b[0;31m---------------------------------------------------------------------------\u001b[0m",
      "\u001b[0;31mInvalidRequestException\u001b[0m                   Traceback (most recent call last)",
      "Input \u001b[0;32mIn [21]\u001b[0m, in \u001b[0;36m<cell line: 5>\u001b[0;34m()\u001b[0m\n\u001b[1;32m      2\u001b[0m comprehend \u001b[38;5;241m=\u001b[39m boto3\u001b[38;5;241m.\u001b[39mclient(service_name\u001b[38;5;241m=\u001b[39m\u001b[38;5;124m'\u001b[39m\u001b[38;5;124mcomprehend\u001b[39m\u001b[38;5;124m'\u001b[39m,region_name\u001b[38;5;241m=\u001b[39m\u001b[38;5;124m'\u001b[39m\u001b[38;5;124mus-west-1\u001b[39m\u001b[38;5;124m'\u001b[39m)\n\u001b[1;32m      4\u001b[0m \u001b[38;5;66;03m# Begin a job to detect the topics in the document collection\u001b[39;00m\n\u001b[0;32m----> 5\u001b[0m start_job_sentiment \u001b[38;5;241m=\u001b[39m \u001b[43mcomprehend\u001b[49m\u001b[38;5;241;43m.\u001b[39;49m\u001b[43mstart_sentiment_detection_job\u001b[49m\u001b[43m(\u001b[49m\n\u001b[1;32m      6\u001b[0m \u001b[43m    \u001b[49m\u001b[43mInputDataConfig\u001b[49m\u001b[38;5;241;43m=\u001b[39;49m\u001b[43minput_data_config\u001b[49m\u001b[43m,\u001b[49m\n\u001b[1;32m      7\u001b[0m \u001b[43m    \u001b[49m\u001b[43mOutputDataConfig\u001b[49m\u001b[38;5;241;43m=\u001b[39;49m\u001b[43moutput_data_config\u001b[49m\u001b[43m,\u001b[49m\n\u001b[1;32m      8\u001b[0m \u001b[43m    \u001b[49m\u001b[43mDataAccessRoleArn\u001b[49m\u001b[38;5;241;43m=\u001b[39;49m\u001b[43mdata_access_role_arn\u001b[49m\u001b[43m,\u001b[49m\n\u001b[1;32m      9\u001b[0m \u001b[43m    \u001b[49m\u001b[43mLanguageCode\u001b[49m\u001b[38;5;241;43m=\u001b[39;49m\u001b[38;5;124;43m'\u001b[39;49m\u001b[38;5;124;43men\u001b[39;49m\u001b[38;5;124;43m'\u001b[39;49m\u001b[43m,\u001b[49m\n\u001b[1;32m     10\u001b[0m \u001b[43m    \u001b[49m\u001b[43mJobName\u001b[49m\u001b[38;5;241;43m=\u001b[39;49m\u001b[38;5;124;43m'\u001b[39;49m\u001b[38;5;124;43mTwitter_1K_tweets\u001b[39;49m\u001b[38;5;124;43m'\u001b[39;49m\u001b[43m)\u001b[49m\n\u001b[1;32m     12\u001b[0m job_id \u001b[38;5;241m=\u001b[39m start_job_sentiment[\u001b[38;5;124m'\u001b[39m\u001b[38;5;124mJobId\u001b[39m\u001b[38;5;124m'\u001b[39m]\n\u001b[1;32m     13\u001b[0m \u001b[38;5;28mprint\u001b[39m(\u001b[38;5;124mf\u001b[39m\u001b[38;5;124m'\u001b[39m\u001b[38;5;124mYour Sentiment Detection JobID is: \u001b[39m\u001b[38;5;132;01m{\u001b[39;00mjob_id\u001b[38;5;132;01m}\u001b[39;00m\u001b[38;5;124m'\u001b[39m)\n",
      "File \u001b[0;32m~/opt/anaconda3/envs/capstone/lib/python3.8/site-packages/botocore/client.py:395\u001b[0m, in \u001b[0;36mClientCreator._create_api_method.<locals>._api_call\u001b[0;34m(self, *args, **kwargs)\u001b[0m\n\u001b[1;32m    392\u001b[0m     \u001b[38;5;28;01mraise\u001b[39;00m \u001b[38;5;167;01mTypeError\u001b[39;00m(\n\u001b[1;32m    393\u001b[0m         \u001b[38;5;124m\"\u001b[39m\u001b[38;5;132;01m%s\u001b[39;00m\u001b[38;5;124m() only accepts keyword arguments.\u001b[39m\u001b[38;5;124m\"\u001b[39m \u001b[38;5;241m%\u001b[39m py_operation_name)\n\u001b[1;32m    394\u001b[0m \u001b[38;5;66;03m# The \"self\" in this scope is referring to the BaseClient.\u001b[39;00m\n\u001b[0;32m--> 395\u001b[0m \u001b[38;5;28;01mreturn\u001b[39;00m \u001b[38;5;28;43mself\u001b[39;49m\u001b[38;5;241;43m.\u001b[39;49m\u001b[43m_make_api_call\u001b[49m\u001b[43m(\u001b[49m\u001b[43moperation_name\u001b[49m\u001b[43m,\u001b[49m\u001b[43m \u001b[49m\u001b[43mkwargs\u001b[49m\u001b[43m)\u001b[49m\n",
      "File \u001b[0;32m~/opt/anaconda3/envs/capstone/lib/python3.8/site-packages/botocore/client.py:725\u001b[0m, in \u001b[0;36mBaseClient._make_api_call\u001b[0;34m(self, operation_name, api_params)\u001b[0m\n\u001b[1;32m    723\u001b[0m     error_code \u001b[38;5;241m=\u001b[39m parsed_response\u001b[38;5;241m.\u001b[39mget(\u001b[38;5;124m\"\u001b[39m\u001b[38;5;124mError\u001b[39m\u001b[38;5;124m\"\u001b[39m, {})\u001b[38;5;241m.\u001b[39mget(\u001b[38;5;124m\"\u001b[39m\u001b[38;5;124mCode\u001b[39m\u001b[38;5;124m\"\u001b[39m)\n\u001b[1;32m    724\u001b[0m     error_class \u001b[38;5;241m=\u001b[39m \u001b[38;5;28mself\u001b[39m\u001b[38;5;241m.\u001b[39mexceptions\u001b[38;5;241m.\u001b[39mfrom_code(error_code)\n\u001b[0;32m--> 725\u001b[0m     \u001b[38;5;28;01mraise\u001b[39;00m error_class(parsed_response, operation_name)\n\u001b[1;32m    726\u001b[0m \u001b[38;5;28;01melse\u001b[39;00m:\n\u001b[1;32m    727\u001b[0m     \u001b[38;5;28;01mreturn\u001b[39;00m parsed_response\n",
      "\u001b[0;31mInvalidRequestException\u001b[0m: An error occurred (InvalidRequestException) when calling the StartSentimentDetectionJob operation: "
     ]
    }
   ],
   "source": [
    "# Start the client\n",
    "comprehend = boto3.client(service_name='comprehend',region_name='us-west-1')\n",
    "\n",
    "# Begin a job to detect the topics in the document collection\n",
    "start_job_sentiment = comprehend.start_sentiment_detection_job(\n",
    "    InputDataConfig=input_data_config,\n",
    "    OutputDataConfig=output_data_config,\n",
    "    DataAccessRoleArn=data_access_role_arn,\n",
    "    LanguageCode='en',\n",
    "    JobName='Twitter_1K_tweets')\n",
    "\n",
    "job_id = start_job_sentiment['JobId']\n",
    "print(f'Your Sentiment Detection JobID is: {job_id}')"
   ]
  },
  {
   "cell_type": "markdown",
   "metadata": {},
   "source": [
    "Your job runs asynchronously. **This may take several minutes to run.**\n",
    "When the status turns to COMPLETED, you can retrieve the results."
   ]
  },
  {
   "cell_type": "code",
   "execution_count": 22,
   "metadata": {},
   "outputs": [
    {
     "ename": "InvalidRequestException",
     "evalue": "An error occurred (InvalidRequestException) when calling the DescribeSentimentDetectionJob operation: ",
     "output_type": "error",
     "traceback": [
      "\u001b[0;31m---------------------------------------------------------------------------\u001b[0m",
      "\u001b[0;31mInvalidRequestException\u001b[0m                   Traceback (most recent call last)",
      "Input \u001b[0;32mIn [22]\u001b[0m, in \u001b[0;36m<cell line: 2>\u001b[0;34m()\u001b[0m\n\u001b[1;32m      1\u001b[0m \u001b[38;5;66;03m# Retrieve information about the job - the job may take a while to run\u001b[39;00m\n\u001b[0;32m----> 2\u001b[0m describe_result \u001b[38;5;241m=\u001b[39m \u001b[43mcomprehend\u001b[49m\u001b[38;5;241;43m.\u001b[39;49m\u001b[43mdescribe_sentiment_detection_job\u001b[49m\u001b[43m(\u001b[49m\u001b[43mJobId\u001b[49m\u001b[38;5;241;43m=\u001b[39;49m\u001b[38;5;124;43m'\u001b[39;49m\u001b[38;5;124;43m42e380837ddf6aa8619992e7b05814d1\u001b[39;49m\u001b[38;5;124;43m'\u001b[39;49m\u001b[43m)\u001b[49m\n\u001b[1;32m      3\u001b[0m job_status \u001b[38;5;241m=\u001b[39m describe_result[\u001b[38;5;124m'\u001b[39m\u001b[38;5;124mSentimentDetectionJobProperties\u001b[39m\u001b[38;5;124m'\u001b[39m][\u001b[38;5;124m'\u001b[39m\u001b[38;5;124mJobStatus\u001b[39m\u001b[38;5;124m'\u001b[39m]\n\u001b[1;32m      4\u001b[0m \u001b[38;5;28mprint\u001b[39m(\u001b[38;5;124mf\u001b[39m\u001b[38;5;124m'\u001b[39m\u001b[38;5;124mJob Status: \u001b[39m\u001b[38;5;132;01m{\u001b[39;00mjob_status\u001b[38;5;132;01m}\u001b[39;00m\u001b[38;5;124m'\u001b[39m)\n",
      "File \u001b[0;32m~/opt/anaconda3/envs/capstone/lib/python3.8/site-packages/botocore/client.py:395\u001b[0m, in \u001b[0;36mClientCreator._create_api_method.<locals>._api_call\u001b[0;34m(self, *args, **kwargs)\u001b[0m\n\u001b[1;32m    392\u001b[0m     \u001b[38;5;28;01mraise\u001b[39;00m \u001b[38;5;167;01mTypeError\u001b[39;00m(\n\u001b[1;32m    393\u001b[0m         \u001b[38;5;124m\"\u001b[39m\u001b[38;5;132;01m%s\u001b[39;00m\u001b[38;5;124m() only accepts keyword arguments.\u001b[39m\u001b[38;5;124m\"\u001b[39m \u001b[38;5;241m%\u001b[39m py_operation_name)\n\u001b[1;32m    394\u001b[0m \u001b[38;5;66;03m# The \"self\" in this scope is referring to the BaseClient.\u001b[39;00m\n\u001b[0;32m--> 395\u001b[0m \u001b[38;5;28;01mreturn\u001b[39;00m \u001b[38;5;28;43mself\u001b[39;49m\u001b[38;5;241;43m.\u001b[39;49m\u001b[43m_make_api_call\u001b[49m\u001b[43m(\u001b[49m\u001b[43moperation_name\u001b[49m\u001b[43m,\u001b[49m\u001b[43m \u001b[49m\u001b[43mkwargs\u001b[49m\u001b[43m)\u001b[49m\n",
      "File \u001b[0;32m~/opt/anaconda3/envs/capstone/lib/python3.8/site-packages/botocore/client.py:725\u001b[0m, in \u001b[0;36mBaseClient._make_api_call\u001b[0;34m(self, operation_name, api_params)\u001b[0m\n\u001b[1;32m    723\u001b[0m     error_code \u001b[38;5;241m=\u001b[39m parsed_response\u001b[38;5;241m.\u001b[39mget(\u001b[38;5;124m\"\u001b[39m\u001b[38;5;124mError\u001b[39m\u001b[38;5;124m\"\u001b[39m, {})\u001b[38;5;241m.\u001b[39mget(\u001b[38;5;124m\"\u001b[39m\u001b[38;5;124mCode\u001b[39m\u001b[38;5;124m\"\u001b[39m)\n\u001b[1;32m    724\u001b[0m     error_class \u001b[38;5;241m=\u001b[39m \u001b[38;5;28mself\u001b[39m\u001b[38;5;241m.\u001b[39mexceptions\u001b[38;5;241m.\u001b[39mfrom_code(error_code)\n\u001b[0;32m--> 725\u001b[0m     \u001b[38;5;28;01mraise\u001b[39;00m error_class(parsed_response, operation_name)\n\u001b[1;32m    726\u001b[0m \u001b[38;5;28;01melse\u001b[39;00m:\n\u001b[1;32m    727\u001b[0m     \u001b[38;5;28;01mreturn\u001b[39;00m parsed_response\n",
      "\u001b[0;31mInvalidRequestException\u001b[0m: An error occurred (InvalidRequestException) when calling the DescribeSentimentDetectionJob operation: "
     ]
    }
   ],
   "source": [
    "# Retrieve information about the job - the job may take a while to run\n",
    "describe_result = comprehend.describe_sentiment_detection_job(JobId='42e380837ddf6aa8619992e7b05814d1')\n",
    "job_status = describe_result['SentimentDetectionJobProperties']['JobStatus']\n",
    "print(f'Job Status: {job_status}')\n",
    "if job_status == 'FAILED':\n",
    "    print(f'Reason: {describe_result[\"SentimentDetectionJobProperties\"][\"Message\"]}')"
   ]
  },
  {
   "cell_type": "markdown",
   "metadata": {},
   "source": [
    "#### Download the Results"
   ]
  },
  {
   "cell_type": "code",
   "execution_count": null,
   "metadata": {},
   "outputs": [],
   "source": [
    "#  The results are located here\n",
    "results_S3Url = comprehend.describe_sentiment_detection_job(\n",
    "    JobId=job_id)['SentimentDetectionJobProperties']['OutputDataConfig']['S3Uri']\n",
    "\n",
    "# Your Output S3 Url\n",
    "results_S3Url"
   ]
  },
  {
   "cell_type": "markdown",
   "metadata": {},
   "source": [
    "If you don't know where your results are, get a listing of your bucket"
   ]
  },
  {
   "cell_type": "code",
   "execution_count": 35,
   "metadata": {},
   "outputs": [],
   "source": [
    "# List all files and folders in the bucket\n",
    "def s3_bucket_list_obj(bucket):\n",
    "    s3 = boto3.resource('s3')\n",
    "    bucket = s3.Bucket(bucket)\n",
    "    for obj in bucket.objects.all():\n",
    "        print(obj.key)"
   ]
  },
  {
   "cell_type": "code",
   "execution_count": null,
   "metadata": {},
   "outputs": [],
   "source": [
    "# List all files\n",
    "s3_bucket_list_obj(bucket_name)"
   ]
  },
  {
   "cell_type": "markdown",
   "metadata": {},
   "source": [
    "Download the results"
   ]
  },
  {
   "cell_type": "code",
   "execution_count": 31,
   "metadata": {},
   "outputs": [],
   "source": [
    "# Give your local results file a name\n",
    "results_name = 'sentiment'\n",
    "\n",
    "local_results_filename = 'Comprehend/outputs/' + results_name + '.tar.gz'\n",
    "s3_name = 's3://' + bucket_name + '/'\n",
    "results_aws_filename = results_S3Url.replace(s3_name, '')\n",
    "\n",
    "# Download results\n",
    "s3 = boto3.client('s3')\n",
    "s3.download_file(bucket_name,\n",
    "                 results_aws_filename, \n",
    "                 local_results_filename)"
   ]
  },
  {
   "cell_type": "markdown",
   "metadata": {},
   "source": [
    "#### Process the results"
   ]
  },
  {
   "cell_type": "code",
   "execution_count": 24,
   "metadata": {},
   "outputs": [],
   "source": [
    "# Unzip the file\n",
    "def extract_targz(targz_file, output_path = ''):\n",
    "    if targz_file.endswith(\"tar.gz\"):\n",
    "        tar = tarfile.open(targz_file, \"r:gz\")\n",
    "        tar.extractall(path = output_path)\n",
    "        tar.close()\n",
    "    elif targz_file.endswith(\"tar\"):\n",
    "        tar = tarfile.open(targz_file, \"r:\")\n",
    "        tar.extractall(path = output_path)\n",
    "        tar.close()"
   ]
  },
  {
   "cell_type": "code",
   "execution_count": null,
   "metadata": {},
   "outputs": [],
   "source": []
  },
  {
   "cell_type": "code",
   "execution_count": 25,
   "metadata": {},
   "outputs": [],
   "source": [
    "# creates a temp file is called 'output'\n",
    "results_name = 'sentiment'\n",
    "local_results_filename = 'output' + '.tar.gz'\n",
    "output_path = 'extracted' \n",
    "extract_targz('output.tar.gz', output_path)"
   ]
  },
  {
   "cell_type": "markdown",
   "metadata": {},
   "source": [
    "Read the results"
   ]
  },
  {
   "cell_type": "code",
   "execution_count": 26,
   "metadata": {},
   "outputs": [
    {
     "name": "stdout",
     "output_type": "stream",
     "text": [
      "Number of records in the output: 1001\n"
     ]
    }
   ],
   "source": [
    "# Read JSON into a dictionary   \n",
    "input_file = output_path + '/output'\n",
    "results = [json.loads(line) for line in open(input_file, 'r')]\n",
    "print('Number of records in the output:',len(results))"
   ]
  },
  {
   "cell_type": "markdown",
   "metadata": {},
   "source": [
    "This is how the output looks like. Note that often the records are not in the same order that they were sent in."
   ]
  },
  {
   "cell_type": "code",
   "execution_count": 27,
   "metadata": {},
   "outputs": [
    {
     "data": {
      "text/plain": [
       "{'File': 'tweet_1k.csv',\n",
       " 'Line': 2,\n",
       " 'Sentiment': 'NEUTRAL',\n",
       " 'SentimentScore': {'Mixed': 0.0005515885422937572,\n",
       "  'Negative': 0.023323293775320053,\n",
       "  'Neutral': 0.8814818859100342,\n",
       "  'Positive': 0.09464327245950699}}"
      ]
     },
     "execution_count": 27,
     "metadata": {},
     "output_type": "execute_result"
    }
   ],
   "source": [
    "results[0]"
   ]
  },
  {
   "cell_type": "code",
   "execution_count": 28,
   "metadata": {},
   "outputs": [],
   "source": [
    "# This function parses sentiment data into a dataframe\n",
    "def parse_sentiment(data):\n",
    "    df = pd.DataFrame([item['SentimentScore'] for item in data])\n",
    "    df['File'] = [item.get('File') for item in data]\n",
    "    df['Sentiment'] = [item.get('Sentiment') for item in data]\n",
    "    df['Line'] = [item.get('Line') for item in data]\n",
    "    df.set_index('Line', inplace = True)\n",
    "    \n",
    "    return(df)"
   ]
  },
  {
   "cell_type": "code",
   "execution_count": 29,
   "metadata": {},
   "outputs": [],
   "source": [
    "# Produce the dataframe\n",
    "# Let's sort and index the dataframe by line\n",
    "sentiment_results = parse_sentiment(results).sort_index()"
   ]
  },
  {
   "cell_type": "code",
   "execution_count": 43,
   "metadata": {},
   "outputs": [
    {
     "data": {
      "text/html": [
       "<div>\n",
       "<style scoped>\n",
       "    .dataframe tbody tr th:only-of-type {\n",
       "        vertical-align: middle;\n",
       "    }\n",
       "\n",
       "    .dataframe tbody tr th {\n",
       "        vertical-align: top;\n",
       "    }\n",
       "\n",
       "    .dataframe thead th {\n",
       "        text-align: right;\n",
       "    }\n",
       "</style>\n",
       "<table border=\"1\" class=\"dataframe\">\n",
       "  <thead>\n",
       "    <tr style=\"text-align: right;\">\n",
       "      <th></th>\n",
       "      <th>Mixed</th>\n",
       "      <th>Negative</th>\n",
       "      <th>Neutral</th>\n",
       "      <th>Positive</th>\n",
       "      <th>File</th>\n",
       "      <th>Sentiment</th>\n",
       "    </tr>\n",
       "    <tr>\n",
       "      <th>Line</th>\n",
       "      <th></th>\n",
       "      <th></th>\n",
       "      <th></th>\n",
       "      <th></th>\n",
       "      <th></th>\n",
       "      <th></th>\n",
       "    </tr>\n",
       "  </thead>\n",
       "  <tbody>\n",
       "    <tr>\n",
       "      <th>0</th>\n",
       "      <td>0.000220</td>\n",
       "      <td>0.002068</td>\n",
       "      <td>0.995343</td>\n",
       "      <td>0.002368</td>\n",
       "      <td>tweet_1k.csv</td>\n",
       "      <td>NEUTRAL</td>\n",
       "    </tr>\n",
       "    <tr>\n",
       "      <th>1</th>\n",
       "      <td>0.000031</td>\n",
       "      <td>0.026165</td>\n",
       "      <td>0.773712</td>\n",
       "      <td>0.200091</td>\n",
       "      <td>tweet_1k.csv</td>\n",
       "      <td>NEUTRAL</td>\n",
       "    </tr>\n",
       "    <tr>\n",
       "      <th>2</th>\n",
       "      <td>0.000552</td>\n",
       "      <td>0.023323</td>\n",
       "      <td>0.881482</td>\n",
       "      <td>0.094643</td>\n",
       "      <td>tweet_1k.csv</td>\n",
       "      <td>NEUTRAL</td>\n",
       "    </tr>\n",
       "    <tr>\n",
       "      <th>3</th>\n",
       "      <td>0.000052</td>\n",
       "      <td>0.013647</td>\n",
       "      <td>0.706558</td>\n",
       "      <td>0.279743</td>\n",
       "      <td>tweet_1k.csv</td>\n",
       "      <td>NEUTRAL</td>\n",
       "    </tr>\n",
       "    <tr>\n",
       "      <th>4</th>\n",
       "      <td>0.000638</td>\n",
       "      <td>0.447723</td>\n",
       "      <td>0.530791</td>\n",
       "      <td>0.020848</td>\n",
       "      <td>tweet_1k.csv</td>\n",
       "      <td>NEUTRAL</td>\n",
       "    </tr>\n",
       "    <tr>\n",
       "      <th>...</th>\n",
       "      <td>...</td>\n",
       "      <td>...</td>\n",
       "      <td>...</td>\n",
       "      <td>...</td>\n",
       "      <td>...</td>\n",
       "      <td>...</td>\n",
       "    </tr>\n",
       "    <tr>\n",
       "      <th>996</th>\n",
       "      <td>0.000835</td>\n",
       "      <td>0.161633</td>\n",
       "      <td>0.688598</td>\n",
       "      <td>0.148934</td>\n",
       "      <td>tweet_1k.csv</td>\n",
       "      <td>NEUTRAL</td>\n",
       "    </tr>\n",
       "    <tr>\n",
       "      <th>997</th>\n",
       "      <td>0.005910</td>\n",
       "      <td>0.265271</td>\n",
       "      <td>0.626391</td>\n",
       "      <td>0.102428</td>\n",
       "      <td>tweet_1k.csv</td>\n",
       "      <td>NEUTRAL</td>\n",
       "    </tr>\n",
       "    <tr>\n",
       "      <th>998</th>\n",
       "      <td>0.000023</td>\n",
       "      <td>0.000088</td>\n",
       "      <td>0.995790</td>\n",
       "      <td>0.004099</td>\n",
       "      <td>tweet_1k.csv</td>\n",
       "      <td>NEUTRAL</td>\n",
       "    </tr>\n",
       "    <tr>\n",
       "      <th>999</th>\n",
       "      <td>0.000029</td>\n",
       "      <td>0.154233</td>\n",
       "      <td>0.833915</td>\n",
       "      <td>0.011822</td>\n",
       "      <td>tweet_1k.csv</td>\n",
       "      <td>NEUTRAL</td>\n",
       "    </tr>\n",
       "    <tr>\n",
       "      <th>1000</th>\n",
       "      <td>0.134877</td>\n",
       "      <td>0.033767</td>\n",
       "      <td>0.760071</td>\n",
       "      <td>0.071285</td>\n",
       "      <td>tweet_1k.csv</td>\n",
       "      <td>NEUTRAL</td>\n",
       "    </tr>\n",
       "  </tbody>\n",
       "</table>\n",
       "<p>1001 rows × 6 columns</p>\n",
       "</div>"
      ],
      "text/plain": [
       "         Mixed  Negative   Neutral  Positive          File Sentiment\n",
       "Line                                                                \n",
       "0     0.000220  0.002068  0.995343  0.002368  tweet_1k.csv   NEUTRAL\n",
       "1     0.000031  0.026165  0.773712  0.200091  tweet_1k.csv   NEUTRAL\n",
       "2     0.000552  0.023323  0.881482  0.094643  tweet_1k.csv   NEUTRAL\n",
       "3     0.000052  0.013647  0.706558  0.279743  tweet_1k.csv   NEUTRAL\n",
       "4     0.000638  0.447723  0.530791  0.020848  tweet_1k.csv   NEUTRAL\n",
       "...        ...       ...       ...       ...           ...       ...\n",
       "996   0.000835  0.161633  0.688598  0.148934  tweet_1k.csv   NEUTRAL\n",
       "997   0.005910  0.265271  0.626391  0.102428  tweet_1k.csv   NEUTRAL\n",
       "998   0.000023  0.000088  0.995790  0.004099  tweet_1k.csv   NEUTRAL\n",
       "999   0.000029  0.154233  0.833915  0.011822  tweet_1k.csv   NEUTRAL\n",
       "1000  0.134877  0.033767  0.760071  0.071285  tweet_1k.csv   NEUTRAL\n",
       "\n",
       "[1001 rows x 6 columns]"
      ]
     },
     "execution_count": 43,
     "metadata": {},
     "output_type": "execute_result"
    }
   ],
   "source": [
    "sentiment_results"
   ]
  },
  {
   "cell_type": "markdown",
   "metadata": {},
   "source": [
    "#### Results Validation"
   ]
  },
  {
   "cell_type": "markdown",
   "metadata": {},
   "source": [
    "Let's take a look at a record and validate that the results were similar (they won't be exactly the same), and that we sorted the dataframe correctly."
   ]
  },
  {
   "cell_type": "code",
   "execution_count": 33,
   "metadata": {},
   "outputs": [
    {
     "name": "stdout",
     "output_type": "stream",
     "text": [
      "TWEET TEXT:\n",
      "   The obvious answer is that the right wingers in both the Nats and Libs form a Conservative party. The remaining moderates form a true liberal party. Just like the 50's split for Labor into the DLP. Substitute climate change deniers for conservative catholicism . Everyone is happy!\n",
      "\n",
      "ASYNCHRONOUS RESULTS:\n",
      "Mixed            0.102015\n",
      "Negative         0.479512\n",
      "Neutral           0.30216\n",
      "Positive         0.116313\n",
      "File         tweet_1k.csv\n",
      "Sentiment        NEGATIVE\n",
      "Name: 230, dtype: object\n"
     ]
    }
   ],
   "source": [
    "record_no = 230\n",
    "# Tweet text\n",
    "print('TWEET TEXT:\\n', \n",
    "      df.loc[record_no].item())\n",
    "# Real Time Results\n",
    "# print('\\nREAL TIME RESULTS:\\n') \n",
    "# print(comprehend.detect_sentiment(Text=df.loc[record_no].item(), LanguageCode='en')['SentimentScore'])\n",
    "# Job Resutls\n",
    "print('\\nASYNCHRONOUS RESULTS:')\n",
    "print(sentiment_results.loc[record_no])"
   ]
  },
  {
   "cell_type": "markdown",
   "metadata": {},
   "source": [
    "#### Save the results file"
   ]
  },
  {
   "cell_type": "code",
   "execution_count": 41,
   "metadata": {},
   "outputs": [],
   "source": [
    "output_name = 'Comprehend/outputs/sentiment_results_walmart_1k.xlsx'\n",
    "sentiment_results['Text'] = df.walmart_tweets\n",
    "sentiment_results.to_excel(output_name, engine = 'xlsxwriter',  encoding = 'utf-8')"
   ]
  }
 ],
 "metadata": {
  "kernelspec": {
   "display_name": "Python 3 (ipykernel)",
   "language": "python",
   "name": "python3"
  },
  "language_info": {
   "codemirror_mode": {
    "name": "ipython",
    "version": 3
   },
   "file_extension": ".py",
   "mimetype": "text/x-python",
   "name": "python",
   "nbconvert_exporter": "python",
   "pygments_lexer": "ipython3",
   "version": "3.8.12"
  }
 },
 "nbformat": 4,
 "nbformat_minor": 4
}
